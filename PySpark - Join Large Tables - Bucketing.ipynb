{
 "cells": [
  {
   "cell_type": "code",
   "execution_count": 1,
   "id": "66dcdce2",
   "metadata": {},
   "outputs": [],
   "source": [
    "from pyspark.sql import SparkSession\n",
    "import getpass\n",
    "username = getpass.getuser()\n",
    "spark = SparkSession. \\\n",
    "builder. \\\n",
    "config('spark.ui.port', '0'). \\\n",
    "config('spark.shuffle.useOldFetchProtocol', 'true'). \\\n",
    "config(\"spark.sql.warehouse.dir\", f\"/user/{username}/warehouse\"). \\\n",
    "enableHiveSupport(). \\\n",
    "master('yarn'). \\\n",
    "getOrCreate()"
   ]
  },
  {
   "cell_type": "code",
   "execution_count": 2,
   "id": "13d107c0",
   "metadata": {},
   "outputs": [],
   "source": [
    "orders_schema = \"order_id long , order_date string, customer_id long,order_status string\""
   ]
  },
  {
   "cell_type": "code",
   "execution_count": 3,
   "id": "07122790",
   "metadata": {},
   "outputs": [],
   "source": [
    "orders_df = spark.read \\\n",
    ".format(\"csv\") \\\n",
    ".schema(orders_schema) \\\n",
    ".load(\"/public/trendytech/orders/orders_1gb.csv\")"
   ]
  },
  {
   "cell_type": "code",
   "execution_count": 4,
   "id": "2a1d50d4",
   "metadata": {},
   "outputs": [],
   "source": [
    "customer_schema = \" customerid long , customer_fname string , customer_lname string , user_name string,password string , address string, city string, state string, pincode long \""
   ]
  },
  {
   "cell_type": "code",
   "execution_count": 5,
   "id": "10690218",
   "metadata": {},
   "outputs": [],
   "source": [
    "customers_df = spark.read \\\n",
    ".format(\"csv\") \\\n",
    ".schema(customer_schema) \\\n",
    ".load(\"/public/trendytech/retail_db/customers\")"
   ]
  },
  {
   "cell_type": "code",
   "execution_count": 6,
   "id": "b5de144f",
   "metadata": {},
   "outputs": [],
   "source": [
    "spark.conf.set('spark.sql.autoBroadcastJoinThreshold', '-1')"
   ]
  },
  {
   "cell_type": "code",
   "execution_count": 7,
   "id": "e5416b2f",
   "metadata": {},
   "outputs": [
    {
     "data": {
      "text/html": [
       "<table border='1'>\n",
       "<tr><th></th></tr>\n",
       "</table>\n"
      ],
      "text/plain": [
       "++\n",
       "||\n",
       "++\n",
       "++"
      ]
     },
     "execution_count": 7,
     "metadata": {},
     "output_type": "execute_result"
    }
   ],
   "source": [
    "spark.sql(\"create database itv009538_optimizeJoin\")"
   ]
  },
  {
   "cell_type": "code",
   "execution_count": 8,
   "id": "3941d270",
   "metadata": {},
   "outputs": [
    {
     "data": {
      "text/html": [
       "<table border='1'>\n",
       "<tr><th></th></tr>\n",
       "</table>\n"
      ],
      "text/plain": [
       "++\n",
       "||\n",
       "++\n",
       "++"
      ]
     },
     "execution_count": 8,
     "metadata": {},
     "output_type": "execute_result"
    }
   ],
   "source": [
    "spark.sql(\"use itv009538_optimizeJoin\")"
   ]
  },
  {
   "cell_type": "code",
   "execution_count": 9,
   "id": "5b1fcda3",
   "metadata": {},
   "outputs": [],
   "source": [
    "orders_df.write \\\n",
    ".mode(\"overwrite\") \\\n",
    ".bucketBy(8, \"customer_id\") \\\n",
    ".sortBy(\"customer_id\") \\\n",
    ".option(\"path\", \"Week10PySparkOptimizations/orders201\") \\\n",
    ".saveAsTable(\"orderstab201\")"
   ]
  },
  {
   "cell_type": "code",
   "execution_count": 10,
   "id": "bce68a2f",
   "metadata": {},
   "outputs": [
    {
     "name": "stdout",
     "output_type": "stream",
     "text": [
      "+----------------------------+---------------------------------------------------------------------------------------------------------------------+-------+\n",
      "|col_name                    |data_type                                                                                                            |comment|\n",
      "+----------------------------+---------------------------------------------------------------------------------------------------------------------+-------+\n",
      "|order_id                    |bigint                                                                                                               |null   |\n",
      "|order_date                  |string                                                                                                               |null   |\n",
      "|customer_id                 |bigint                                                                                                               |null   |\n",
      "|order_status                |string                                                                                                               |null   |\n",
      "|                            |                                                                                                                     |       |\n",
      "|# Detailed Table Information|                                                                                                                     |       |\n",
      "|Database                    |itv009538_optimizejoin                                                                                               |       |\n",
      "|Table                       |orderstab201                                                                                                         |       |\n",
      "|Owner                       |itv009538                                                                                                            |       |\n",
      "|Created Time                |Sat Jan 06 11:21:49 EST 2024                                                                                         |       |\n",
      "|Last Access                 |UNKNOWN                                                                                                              |       |\n",
      "|Created By                  |Spark 3.1.2                                                                                                          |       |\n",
      "|Type                        |EXTERNAL                                                                                                             |       |\n",
      "|Provider                    |parquet                                                                                                              |       |\n",
      "|Num Buckets                 |8                                                                                                                    |       |\n",
      "|Bucket Columns              |[`customer_id`]                                                                                                      |       |\n",
      "|Sort Columns                |[`customer_id`]                                                                                                      |       |\n",
      "|Location                    |hdfs://m01.itversity.com:9000/user/itv009538/warehouse/itv009538_optimizejoin.db/Week10PySparkOptimizations/orders201|       |\n",
      "|Serde Library               |org.apache.hadoop.hive.ql.io.parquet.serde.ParquetHiveSerDe                                                          |       |\n",
      "|InputFormat                 |org.apache.hadoop.hive.ql.io.parquet.MapredParquetInputFormat                                                        |       |\n",
      "|OutputFormat                |org.apache.hadoop.hive.ql.io.parquet.MapredParquetOutputFormat                                                       |       |\n",
      "+----------------------------+---------------------------------------------------------------------------------------------------------------------+-------+\n",
      "\n"
     ]
    }
   ],
   "source": [
    "spark.sql(\"describe formatted orderstab201\").show(50, False)"
   ]
  },
  {
   "cell_type": "code",
   "execution_count": 11,
   "id": "4f44e6b2",
   "metadata": {},
   "outputs": [],
   "source": [
    "customers_df.write \\\n",
    ".mode(\"overwrite\") \\\n",
    ".bucketBy(8, \"customerid\") \\\n",
    ".sortBy(\"customerid\") \\\n",
    ".option(\"path\", \"Week10PySparkOptimizations/customers201\") \\\n",
    ".saveAsTable(\"customerstab201\")"
   ]
  },
  {
   "cell_type": "code",
   "execution_count": 12,
   "id": "269fa6aa",
   "metadata": {},
   "outputs": [],
   "source": [
    "spark.sql(\"select * from orderstab201 inner join customerstab201 on orderstab201.customer_id == customerstab201.customerid\").write.format(\"noop\").mode(\"overwrite\").save()"
   ]
  },
  {
   "cell_type": "code",
   "execution_count": 13,
   "id": "9bac377c",
   "metadata": {},
   "outputs": [
    {
     "name": "stdout",
     "output_type": "stream",
     "text": [
      "== Physical Plan ==\n",
      "*(3) SortMergeJoin [customer_id#89L], [customerid#91L], Inner\n",
      ":- *(1) Sort [customer_id#89L ASC NULLS FIRST], false, 0\n",
      ":  +- *(1) Filter isnotnull(customer_id#89L)\n",
      ":     +- *(1) ColumnarToRow\n",
      ":        +- FileScan parquet itv009538_optimizejoin.orderstab201[order_id#87L,order_date#88,customer_id#89L,order_status#90] Batched: true, DataFilters: [isnotnull(customer_id#89L)], Format: Parquet, Location: InMemoryFileIndex[hdfs://m01.itversity.com:9000/user/itv009538/warehouse/itv009538_optimizejoin.d..., PartitionFilters: [], PushedFilters: [IsNotNull(customer_id)], ReadSchema: struct<order_id:bigint,order_date:string,customer_id:bigint,order_status:string>, SelectedBucketsCount: 8 out of 8\n",
      "+- *(2) Sort [customerid#91L ASC NULLS FIRST], false, 0\n",
      "   +- *(2) Filter isnotnull(customerid#91L)\n",
      "      +- *(2) ColumnarToRow\n",
      "         +- FileScan parquet itv009538_optimizejoin.customerstab201[customerid#91L,customer_fname#92,customer_lname#93,user_name#94,password#95,address#96,city#97,state#98,pincode#99L] Batched: true, DataFilters: [isnotnull(customerid#91L)], Format: Parquet, Location: InMemoryFileIndex[hdfs://m01.itversity.com:9000/user/itv009538/warehouse/itv009538_optimizejoin.d..., PartitionFilters: [], PushedFilters: [IsNotNull(customerid)], ReadSchema: struct<customerid:bigint,customer_fname:string,customer_lname:string,user_name:string,password:st..., SelectedBucketsCount: 8 out of 8\n",
      "\n",
      "\n"
     ]
    }
   ],
   "source": [
    "spark.sql(\"select * from orderstab201 inner join customerstab201 on orderstab201.customer_id == customerstab201.customerid\").explain()"
   ]
  },
  {
   "cell_type": "code",
   "execution_count": 14,
   "id": "2b2a891d",
   "metadata": {},
   "outputs": [
    {
     "data": {
      "text/html": [
       "<table border='1'>\n",
       "<tr><th>database</th><th>tableName</th><th>isTemporary</th></tr>\n",
       "<tr><td>itv009538_optimiz...</td><td>customerstab201</td><td>false</td></tr>\n",
       "<tr><td>itv009538_optimiz...</td><td>orderstab201</td><td>false</td></tr>\n",
       "</table>\n"
      ],
      "text/plain": [
       "+--------------------+---------------+-----------+\n",
       "|            database|      tableName|isTemporary|\n",
       "+--------------------+---------------+-----------+\n",
       "|itv009538_optimiz...|customerstab201|      false|\n",
       "|itv009538_optimiz...|   orderstab201|      false|\n",
       "+--------------------+---------------+-----------+"
      ]
     },
     "execution_count": 14,
     "metadata": {},
     "output_type": "execute_result"
    }
   ],
   "source": [
    "spark.sql(\"show tables\")"
   ]
  },
  {
   "cell_type": "code",
   "execution_count": 15,
   "id": "de4a1c11",
   "metadata": {},
   "outputs": [
    {
     "data": {
      "text/html": [
       "<table border='1'>\n",
       "<tr><th></th></tr>\n",
       "</table>\n"
      ],
      "text/plain": [
       "++\n",
       "||\n",
       "++\n",
       "++"
      ]
     },
     "execution_count": 15,
     "metadata": {},
     "output_type": "execute_result"
    }
   ],
   "source": [
    "spark.sql(\" drop table itv006277_optimizeJoin.customerstab201\")"
   ]
  },
  {
   "cell_type": "code",
   "execution_count": 16,
   "id": "411dd80c",
   "metadata": {},
   "outputs": [
    {
     "data": {
      "text/html": [
       "<table border='1'>\n",
       "<tr><th></th></tr>\n",
       "</table>\n"
      ],
      "text/plain": [
       "++\n",
       "||\n",
       "++\n",
       "++"
      ]
     },
     "execution_count": 16,
     "metadata": {},
     "output_type": "execute_result"
    }
   ],
   "source": [
    "spark.sql(\" drop table itv006277_optimizeJoin.orderstab201\")"
   ]
  },
  {
   "cell_type": "code",
   "execution_count": null,
   "id": "e5b7fe52",
   "metadata": {},
   "outputs": [],
   "source": []
  }
 ],
 "metadata": {
  "kernelspec": {
   "display_name": "Pyspark 3",
   "language": "python",
   "name": "pyspark3"
  },
  "language_info": {
   "codemirror_mode": {
    "name": "ipython",
    "version": 3
   },
   "file_extension": ".py",
   "mimetype": "text/x-python",
   "name": "python",
   "nbconvert_exporter": "python",
   "pygments_lexer": "ipython3",
   "version": "3.6.12"
  }
 },
 "nbformat": 4,
 "nbformat_minor": 5
}
