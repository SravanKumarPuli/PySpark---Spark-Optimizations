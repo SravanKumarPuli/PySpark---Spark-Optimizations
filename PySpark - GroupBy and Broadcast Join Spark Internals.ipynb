{
 "cells": [
  {
   "cell_type": "code",
   "execution_count": 1,
   "id": "91e96f17",
   "metadata": {},
   "outputs": [],
   "source": [
    "from pyspark.sql import SparkSession\n",
    "import getpass\n",
    "username = getpass.getuser()\n",
    "spark = SparkSession. \\\n",
    "builder. \\\n",
    "config('spark.ui.port', '0'). \\\n",
    "config('spark.shuffle.useOldFetchProtocol', 'true'). \\\n",
    "config(\"spark.sql.warehouse.dir\", f\"/user/{username}/warehouse\"). \\\n",
    "enableHiveSupport(). \\\n",
    "master('yarn'). \\\n",
    "getOrCreate()"
   ]
  },
  {
   "cell_type": "code",
   "execution_count": 2,
   "id": "5669a0f2",
   "metadata": {},
   "outputs": [],
   "source": [
    "orders_schema = \"order_id long , order_date string, customer_id long,order_status string\""
   ]
  },
  {
   "cell_type": "code",
   "execution_count": 3,
   "id": "7fde9706",
   "metadata": {},
   "outputs": [],
   "source": [
    "orders_df = spark.read \\\n",
    ".format(\"csv\") \\\n",
    ".schema(orders_schema) \\\n",
    ".load(\"/public/trendytech/orders/orders_1gb.csv\")"
   ]
  },
  {
   "cell_type": "code",
   "execution_count": 4,
   "id": "3b8d82e2",
   "metadata": {},
   "outputs": [
    {
     "data": {
      "text/plain": [
       "9"
      ]
     },
     "execution_count": 4,
     "metadata": {},
     "output_type": "execute_result"
    }
   ],
   "source": [
    "orders_df.rdd.getNumPartitions()"
   ]
  },
  {
   "cell_type": "code",
   "execution_count": 5,
   "id": "1e31f41d",
   "metadata": {},
   "outputs": [],
   "source": [
    "orders_df.groupBy(\"order_status\").count().write.format(\"csv\").mode(\"overwrite\").save(\"Week10PySparkOptimizations/output101\")"
   ]
  },
  {
   "cell_type": "code",
   "execution_count": 6,
   "id": "2ec1eda9",
   "metadata": {},
   "outputs": [],
   "source": [
    "orders_df.groupBy(\"order_status\").count().write.format(\"noop\").mode(\"overwrite\").save()"
   ]
  },
  {
   "cell_type": "code",
   "execution_count": 7,
   "id": "67b5990f",
   "metadata": {},
   "outputs": [],
   "source": [
    "customer_schema = \"customerid long , customer_fname string , customer_lname string , user_name string,password string , address string, city string, state string, pincode long \""
   ]
  },
  {
   "cell_type": "code",
   "execution_count": 8,
   "id": "ddc04566",
   "metadata": {},
   "outputs": [],
   "source": [
    "customers_df = spark.read \\\n",
    ".format(\"csv\") \\\n",
    ".schema(customer_schema) \\\n",
    ".load(\"/public/trendytech/retail_db/customers\")"
   ]
  },
  {
   "cell_type": "code",
   "execution_count": 9,
   "id": "4b57c3ca",
   "metadata": {},
   "outputs": [
    {
     "name": "stdout",
     "output_type": "stream",
     "text": [
      "+----------+--------------+--------------+---------+---------+--------------------+-------------+-----+-------+\n",
      "|customerid|customer_fname|customer_lname|user_name| password|             address|         city|state|pincode|\n",
      "+----------+--------------+--------------+---------+---------+--------------------+-------------+-----+-------+\n",
      "|         1|       Richard|     Hernandez|XXXXXXXXX|XXXXXXXXX|  6303 Heather Plaza|  Brownsville|   TX|  78521|\n",
      "|         2|          Mary|       Barrett|XXXXXXXXX|XXXXXXXXX|9526 Noble Embers...|    Littleton|   CO|  80126|\n",
      "|         3|           Ann|         Smith|XXXXXXXXX|XXXXXXXXX|3422 Blue Pioneer...|       Caguas|   PR|    725|\n",
      "|         4|          Mary|         Jones|XXXXXXXXX|XXXXXXXXX|  8324 Little Common|   San Marcos|   CA|  92069|\n",
      "|         5|        Robert|        Hudson|XXXXXXXXX|XXXXXXXXX|10 Crystal River ...|       Caguas|   PR|    725|\n",
      "|         6|          Mary|         Smith|XXXXXXXXX|XXXXXXXXX|3151 Sleepy Quail...|      Passaic|   NJ|   7055|\n",
      "|         7|       Melissa|        Wilcox|XXXXXXXXX|XXXXXXXXX|9453 High Concession|       Caguas|   PR|    725|\n",
      "|         8|         Megan|         Smith|XXXXXXXXX|XXXXXXXXX|3047 Foggy Forest...|     Lawrence|   MA|   1841|\n",
      "|         9|          Mary|         Perez|XXXXXXXXX|XXXXXXXXX| 3616 Quaking Street|       Caguas|   PR|    725|\n",
      "|        10|       Melissa|         Smith|XXXXXXXXX|XXXXXXXXX|8598 Harvest Beac...|     Stafford|   VA|  22554|\n",
      "|        11|          Mary|       Huffman|XXXXXXXXX|XXXXXXXXX|    3169 Stony Woods|       Caguas|   PR|    725|\n",
      "|        12|   Christopher|         Smith|XXXXXXXXX|XXXXXXXXX|5594 Jagged Ember...|  San Antonio|   TX|  78227|\n",
      "|        13|          Mary|       Baldwin|XXXXXXXXX|XXXXXXXXX|7922 Iron Oak Gar...|       Caguas|   PR|    725|\n",
      "|        14|     Katherine|         Smith|XXXXXXXXX|XXXXXXXXX|5666 Hazy Pony Sq...|  Pico Rivera|   CA|  90660|\n",
      "|        15|          Jane|          Luna|XXXXXXXXX|XXXXXXXXX|    673 Burning Glen|      Fontana|   CA|  92336|\n",
      "|        16|       Tiffany|         Smith|XXXXXXXXX|XXXXXXXXX|      6651 Iron Port|       Caguas|   PR|    725|\n",
      "|        17|          Mary|      Robinson|XXXXXXXXX|XXXXXXXXX|     1325 Noble Pike|       Taylor|   MI|  48180|\n",
      "|        18|        Robert|         Smith|XXXXXXXXX|XXXXXXXXX|2734 Hazy Butterf...|     Martinez|   CA|  94553|\n",
      "|        19|     Stephanie|      Mitchell|XXXXXXXXX|XXXXXXXXX|3543 Red Treasure...|       Caguas|   PR|    725|\n",
      "|        20|          Mary|         Ellis|XXXXXXXXX|XXXXXXXXX|      4703 Old Route|West New York|   NJ|   7093|\n",
      "+----------+--------------+--------------+---------+---------+--------------------+-------------+-----+-------+\n",
      "only showing top 20 rows\n",
      "\n"
     ]
    }
   ],
   "source": [
    "customers_df.show()"
   ]
  },
  {
   "cell_type": "code",
   "execution_count": 10,
   "id": "19a0655c",
   "metadata": {},
   "outputs": [
    {
     "name": "stdout",
     "output_type": "stream",
     "text": [
      "+--------+--------------------+-----------+---------------+\n",
      "|order_id|          order_date|customer_id|   order_status|\n",
      "+--------+--------------------+-----------+---------------+\n",
      "|       1|2013-07-25 00:00:...|      11599|         CLOSED|\n",
      "|       2|2013-07-25 00:00:...|        256|PENDING_PAYMENT|\n",
      "|       3|2013-07-25 00:00:...|      12111|       COMPLETE|\n",
      "|       4|2013-07-25 00:00:...|       8827|         CLOSED|\n",
      "|       5|2013-07-25 00:00:...|      11318|       COMPLETE|\n",
      "|       6|2013-07-25 00:00:...|       7130|       COMPLETE|\n",
      "|       7|2013-07-25 00:00:...|       4530|       COMPLETE|\n",
      "|       8|2013-07-25 00:00:...|       2911|     PROCESSING|\n",
      "|       9|2013-07-25 00:00:...|       5657|PENDING_PAYMENT|\n",
      "|      10|2013-07-25 00:00:...|       5648|PENDING_PAYMENT|\n",
      "|      11|2013-07-25 00:00:...|        918| PAYMENT_REVIEW|\n",
      "|      12|2013-07-25 00:00:...|       1837|         CLOSED|\n",
      "|      13|2013-07-25 00:00:...|       9149|PENDING_PAYMENT|\n",
      "|      14|2013-07-25 00:00:...|       9842|     PROCESSING|\n",
      "|      15|2013-07-25 00:00:...|       2568|       COMPLETE|\n",
      "|      16|2013-07-25 00:00:...|       7276|PENDING_PAYMENT|\n",
      "|      17|2013-07-25 00:00:...|       2667|       COMPLETE|\n",
      "|      18|2013-07-25 00:00:...|       1205|         CLOSED|\n",
      "|      19|2013-07-25 00:00:...|       9488|PENDING_PAYMENT|\n",
      "|      20|2013-07-25 00:00:...|       9198|     PROCESSING|\n",
      "+--------+--------------------+-----------+---------------+\n",
      "only showing top 20 rows\n",
      "\n"
     ]
    }
   ],
   "source": [
    "orders_df.show()"
   ]
  },
  {
   "cell_type": "code",
   "execution_count": 11,
   "id": "252c0cf6",
   "metadata": {},
   "outputs": [
    {
     "data": {
      "text/plain": [
       "'10485760b'"
      ]
     },
     "execution_count": 11,
     "metadata": {},
     "output_type": "execute_result"
    }
   ],
   "source": [
    "spark.conf.get('spark.sql.autoBroadcastJoinThreshold')"
   ]
  },
  {
   "cell_type": "code",
   "execution_count": 12,
   "id": "8e8410af",
   "metadata": {},
   "outputs": [
    {
     "data": {
      "text/plain": [
       "10.0"
      ]
     },
     "execution_count": 12,
     "metadata": {},
     "output_type": "execute_result"
    }
   ],
   "source": [
    "10485760 / (1024 * 1024)"
   ]
  },
  {
   "cell_type": "code",
   "execution_count": 13,
   "id": "0fa051b9",
   "metadata": {},
   "outputs": [],
   "source": [
    "spark.conf.set('spark.sql.autoBroadcastJoinThreshold', '-1')"
   ]
  },
  {
   "cell_type": "code",
   "execution_count": 14,
   "id": "bac26220",
   "metadata": {},
   "outputs": [],
   "source": [
    "spark.conf.set('spark.sql.autoBroadcastJoinThreshold', '10485760b')"
   ]
  },
  {
   "cell_type": "code",
   "execution_count": 15,
   "id": "efb6fdfb",
   "metadata": {},
   "outputs": [
    {
     "name": "stdout",
     "output_type": "stream",
     "text": [
      "+--------+--------------------+-----------+---------------+----------+--------------+--------------+---------+---------+--------------------+-------------+-----+-------+\n",
      "|order_id|          order_date|customer_id|   order_status|customerid|customer_fname|customer_lname|user_name| password|             address|         city|state|pincode|\n",
      "+--------+--------------------+-----------+---------------+----------+--------------+--------------+---------+---------+--------------------+-------------+-----+-------+\n",
      "|       1|2013-07-25 00:00:...|      11599|         CLOSED|     11599|          Mary|        Malone|XXXXXXXXX|XXXXXXXXX|8708 Indian Horse...|      Hickory|   NC|  28601|\n",
      "|       2|2013-07-25 00:00:...|        256|PENDING_PAYMENT|       256|         David|     Rodriguez|XXXXXXXXX|XXXXXXXXX|7605 Tawny Horse ...|      Chicago|   IL|  60625|\n",
      "|       3|2013-07-25 00:00:...|      12111|       COMPLETE|     12111|         Amber|        Franco|XXXXXXXXX|XXXXXXXXX|8766 Clear Prairi...|   Santa Cruz|   CA|  95060|\n",
      "|       4|2013-07-25 00:00:...|       8827|         CLOSED|      8827|         Brian|        Wilson|XXXXXXXXX|XXXXXXXXX|   8396 High Corners|  San Antonio|   TX|  78240|\n",
      "|       5|2013-07-25 00:00:...|      11318|       COMPLETE|     11318|          Mary|         Henry|XXXXXXXXX|XXXXXXXXX|3047 Silent Ember...|       Caguas|   PR|    725|\n",
      "|       6|2013-07-25 00:00:...|       7130|       COMPLETE|      7130|         Alice|         Smith|XXXXXXXXX|XXXXXXXXX|      8852 Iron Port|     Brooklyn|   NY|  11237|\n",
      "|       7|2013-07-25 00:00:...|       4530|       COMPLETE|      4530|          Mary|         Smith|XXXXXXXXX|XXXXXXXXX|1073 Green Leaf G...|        Miami|   FL|  33161|\n",
      "|       8|2013-07-25 00:00:...|       2911|     PROCESSING|      2911|          Mary|         Smith|XXXXXXXXX|XXXXXXXXX|9166 Golden Necta...|       Caguas|   PR|    725|\n",
      "|       9|2013-07-25 00:00:...|       5657|PENDING_PAYMENT|      5657|          Mary|         James|XXXXXXXXX|XXXXXXXXX|  1389 Dusty Circuit|     Lakewood|   OH|  44107|\n",
      "|      10|2013-07-25 00:00:...|       5648|PENDING_PAYMENT|      5648|        Joshua|         Smith|XXXXXXXXX|XXXXXXXXX|864 Iron Spring S...|      Memphis|   TN|  38111|\n",
      "|      11|2013-07-25 00:00:...|        918| PAYMENT_REVIEW|       918|        Nathan|         Smith|XXXXXXXXX|XXXXXXXXX|    9627 Honey Trail|       Caguas|   PR|    725|\n",
      "|      12|2013-07-25 00:00:...|       1837|         CLOSED|      1837|          Mary|          Vega|XXXXXXXXX|XXXXXXXXX|  4312 Bright Corner|       Caguas|   PR|    725|\n",
      "|      13|2013-07-25 00:00:...|       9149|PENDING_PAYMENT|      9149|        Ronald|     Whitehead|XXXXXXXXX|XXXXXXXXX|6789 Round Robin ...|    Santa Ana|   CA|  92705|\n",
      "|      14|2013-07-25 00:00:...|       9842|     PROCESSING|      9842|          Mary|         Smith|XXXXXXXXX|XXXXXXXXX|454 Lazy Branch F...|       Caguas|   PR|    725|\n",
      "|      15|2013-07-25 00:00:...|       2568|       COMPLETE|      2568|         Maria|         Smith|XXXXXXXXX|XXXXXXXXX|   3544 Fallen Mount|      Memphis|   TN|  38127|\n",
      "|      16|2013-07-25 00:00:...|       7276|PENDING_PAYMENT|      7276|        Pamela|         Smith|XXXXXXXXX|XXXXXXXXX|    9243 Old Gardens|       Caguas|   PR|    725|\n",
      "|      17|2013-07-25 00:00:...|       2667|       COMPLETE|      2667|         Tammy|         Smith|XXXXXXXXX|XXXXXXXXX|   8906 Rustic Mall |   Sun Valley|   CA|  91352|\n",
      "|      18|2013-07-25 00:00:...|       1205|         CLOSED|      1205|          Mary|        Powell|XXXXXXXXX|XXXXXXXXX|9299 Quiet Pionee...|        Miami|   FL|  33126|\n",
      "|      19|2013-07-25 00:00:...|       9488|PENDING_PAYMENT|      9488|          Mary|         Smith|XXXXXXXXX|XXXXXXXXX|    9758 Foggy Range|      Hialeah|   FL|  33012|\n",
      "|      20|2013-07-25 00:00:...|       9198|     PROCESSING|      9198|         David|          Kerr|XXXXXXXXX|XXXXXXXXX|7312 Crystal Will...|Bowling Green|   KY|  42101|\n",
      "+--------+--------------------+-----------+---------------+----------+--------------+--------------+---------+---------+--------------------+-------------+-----+-------+\n",
      "only showing top 20 rows\n",
      "\n"
     ]
    }
   ],
   "source": [
    "orders_df.join(customers_df, orders_df.customer_id == customers_df.customerid, \"inner\").show()"
   ]
  },
  {
   "cell_type": "code",
   "execution_count": 16,
   "id": "43ffc62e",
   "metadata": {},
   "outputs": [],
   "source": [
    "orders_df.join(customers_df, orders_df.customer_id == customers_df.customerid, \"inner\").write.format(\"noop\").mode(\"overwrite\").save()"
   ]
  },
  {
   "cell_type": "code",
   "execution_count": 17,
   "id": "04bad878",
   "metadata": {},
   "outputs": [],
   "source": [
    "orders_df.join(customers_df, orders_df.customer_id == customers_df.customerid, \"right\").write.format(\"noop\").mode(\"overwrite\").save()"
   ]
  },
  {
   "cell_type": "code",
   "execution_count": 18,
   "id": "07f1894d",
   "metadata": {},
   "outputs": [],
   "source": [
    "orders_df.join(customers_df, orders_df.customer_id == customers_df.customerid, \"left\").write.format(\"noop\").mode(\"overwrite\").save()"
   ]
  },
  {
   "cell_type": "code",
   "execution_count": null,
   "id": "eb92ac75",
   "metadata": {},
   "outputs": [],
   "source": []
  }
 ],
 "metadata": {
  "kernelspec": {
   "display_name": "Pyspark 3",
   "language": "python",
   "name": "pyspark3"
  },
  "language_info": {
   "codemirror_mode": {
    "name": "ipython",
    "version": 3
   },
   "file_extension": ".py",
   "mimetype": "text/x-python",
   "name": "python",
   "nbconvert_exporter": "python",
   "pygments_lexer": "ipython3",
   "version": "3.6.12"
  }
 },
 "nbformat": 4,
 "nbformat_minor": 5
}
